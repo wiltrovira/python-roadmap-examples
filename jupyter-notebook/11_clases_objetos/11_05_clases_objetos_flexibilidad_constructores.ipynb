{
 "cells": [
  {
   "cell_type": "markdown",
   "id": "0b05afa3",
   "metadata": {},
   "source": [
    "# 🐍 Ejemplo en Python: Flexibilidad de Constructores en Clases\n",
    "\n",
    "En este ejercicio aprenderás cómo funcionan los **constructores en Python** y cómo se pueden usar de manera flexible para crear objetos de una misma clase.\n",
    "\n",
    "Además, veremos que en Python **no existe la sobrecarga de métodos**, lo que significa que no puedes tener dos métodos con el mismo nombre pero diferentes parámetros.\n",
    "\n",
    "En su lugar, Python nos permite trabajar con **valores por defecto** y con **argumentos opcionales**."
   ]
  },
  {
   "cell_type": "markdown",
   "id": "fa18c6a2",
   "metadata": {},
   "source": [
    "## 📌 Definición de la clase `Aritmetica`\n",
    "\n",
    "👉 Aquí definimos una clase llamada **`Aritmetica`** con: - Un **constructor (`__init__`)** que recibe dos parámetros opcionales (`parOperando1` y `parOperando2`).\n",
    "\n",
    "Si no se pasan valores, se asigna `None` por defecto. - Métodos para realizar operaciones matemáticas: `sumar`, `restar`, `multiplicar`,`dividir`.\n",
    "\n",
    "Esto demuestra que no es necesario definir múltiples constructores como en otros lenguajes (Java, C++). Con **valores por defecto**, el mismo constructor puede adaptarse a diferentes casos."
   ]
  },
  {
   "cell_type": "code",
   "execution_count": 1,
   "id": "b7a1bb36",
   "metadata": {},
   "outputs": [],
   "source": [
    "class Aritmetica:\n",
    "    def __init__(self,parOperando1=None, parOperando2=None):\n",
    "        self.operando1 = parOperando1\n",
    "        self.operando2 = parOperando2\n",
    "\n",
    "    def sumar(self):\n",
    "        resultado = self.operando1 + self.operando2\n",
    "        print(f'Resultado de la suma: {resultado}')\n",
    "    \n",
    "    def restar(self):\n",
    "        resultado = self.operando1 - self.operando2\n",
    "        print(f'Resultado de la resta: {resultado}')\n",
    "\n",
    "    def multiplicar(self):\n",
    "        resultado = self.operando1 * self.operando2\n",
    "        print(f'Resultado de la multiplicación: {resultado}')\n",
    "    \n",
    "    def dividir(self):\n",
    "        resultado = self.operando1 / self.operando2\n",
    "        print(f'Resultado de la división: {resultado}')\n"
   ]
  },
  {
   "cell_type": "markdown",
   "id": "d1824663",
   "metadata": {},
   "source": [
    "## 🚀 Ejecución del programa principal\n",
    "\n",
    "🔹 **Objeto 1**: Creamos la clase pasando **dos parámetros** directamente al constructor.\n",
    "\n",
    "Esto funciona igual que en lenguajes con sobrecarga de constructores.\n",
    "\n",
    "🔹 **Objeto 2**: Solo damos **un valor al constructor** y después asignamos el otro manualmente.\n",
    "\n",
    "Esto es posible porque `parOperando2` tiene valor por defecto (`None`).\n",
    "\n",
    "🔹 **Objeto 3**: Creamos el objeto **sin pasar ningún valor** y luego asignamos ambos operandos.\n",
    "\n",
    "Esto demuestra aún más la flexibilidad del constructor.\n",
    "\n",
    "🔹 **Objeto 4**: Usamos **argumentos con nombre**. Esto mejora la **claridad** y el **orden** del código.\n",
    "\n",
    "🔹 **Objeto 5**: Python permite pasar argumentos **en cualquier orden** siempre que se usen con nombre.\n",
    "\n",
    "🔹 **Objeto 6**: Creamos el objeto con **solo un argumento con nombre** y después asignamos el otro.\n",
    "\n",
    "Esto vuelve a mostrar que en Python podemos tener mucha **flexibilidad al instanciar objetos**."
   ]
  },
  {
   "cell_type": "code",
   "execution_count": 2,
   "id": "1ae83ac5",
   "metadata": {},
   "outputs": [],
   "source": [
    "def main():\n",
    "    print(\"*** Ejemplo clase Aritmética con Flexibilidad al crear objetos ***\")\n",
    "\n",
    "    # Objeto 1 - Se crea con los dos operandos\n",
    "    print(\"Objeto 1\")\n",
    "    aritmetica1 = Aritmetica(5,7)\n",
    "    aritmetica1.sumar()\n",
    "\n",
    "    print()  \n",
    "\n",
    "    # Objeto 2 - Se crea con un operando y el otro se asigna después\n",
    "    print(\"Objeto 2\")\n",
    "    aritmetica2 = Aritmetica(12) # Un operando en el constructor\n",
    "    aritmetica2.operando2 = 3 # Asignación posterior del otro operando\n",
    "    aritmetica2.sumar()\n",
    "\n",
    "    print()  \n",
    "\n",
    "    # Objeto 3 - Se crea sin operandos y se asignan después\n",
    "    print(\"Objeto 3\")\n",
    "    aritmetica3 = Aritmetica()\n",
    "    aritmetica3.operando1 = 8 # Asignación posterior de los operandos\n",
    "    aritmetica3.operando2 = 4 # Asignación posterior de los operandos\n",
    "    aritmetica3.sumar()\n",
    "\n",
    "    print()\n",
    "\n",
    "    # Objeto 4 - Se crea con los dos operandos usando argumentos con nombre\n",
    "    print(\"Objeto 4\")\n",
    "    aritmetica4 = Aritmetica(parOperando1=15, parOperando2=3) # Argumentos con nombre\n",
    "    aritmetica4.sumar()\n",
    "\n",
    "    print()\n",
    "\n",
    "    # Objeto 5 - Se crea con los dos operandos usando argumentos con nombre en orden inverso\n",
    "    print(\"Objeto 5\")\n",
    "    aritmetica5 = Aritmetica(parOperando2=6, parOperando1=9) # Argumentos con nombre en orden inverso\n",
    "    aritmetica5.sumar()\n",
    "\n",
    "    print()\n",
    "\n",
    "    # Objeto 6 - Se crea con los dos operandos usando argumentos con nombre en orden inverso\n",
    "    print(\"Objeto 6\")\n",
    "    aritmetica6 = Aritmetica(parOperando2=6) # Argumentos con nombre en orden inverso\n",
    "    aritmetica6.operando1 = 9 # Asignación posterior del otro operando)\n",
    "    aritmetica6.sumar()"
   ]
  },
  {
   "cell_type": "code",
   "execution_count": 3,
   "id": "f848a66a",
   "metadata": {},
   "outputs": [
    {
     "name": "stdout",
     "output_type": "stream",
     "text": [
      "*** Ejemplo clase Aritmética con Flexibilidad al crear objetos ***\n",
      "Objeto 1\n",
      "Resultado de la suma: 12\n",
      "\n",
      "Objeto 2\n",
      "Resultado de la suma: 15\n",
      "\n",
      "Objeto 3\n",
      "Resultado de la suma: 12\n",
      "\n",
      "Objeto 4\n",
      "Resultado de la suma: 18\n",
      "\n",
      "Objeto 5\n",
      "Resultado de la suma: 15\n",
      "\n",
      "Objeto 6\n",
      "Resultado de la suma: 15\n"
     ]
    }
   ],
   "source": [
    "\n",
    "if __name__ == \"__main__\":\n",
    "    main()"
   ]
  },
  {
   "cell_type": "markdown",
   "id": "6234f714",
   "metadata": {},
   "source": [
    "## 📝 Conclusiones\n",
    "\n",
    "-   En Python **no existe la sobrecarga de constructores** como en otros lenguajes.\n",
    "-   Un **único constructor** puede manejar múltiples casos gracias a:\n",
    "    -   **Parámetros opcionales** (valores por defecto).\n",
    "    -   **Asignaciones posteriores de atributos**.\n",
    "    -   **Uso de argumentos con nombre** (keyword arguments).\n",
    "\n",
    "-   Esto hace que la programación en Python sea **más flexible y sencilla**."
   ]
  }
 ],
 "metadata": {
  "kernelspec": {
   "display_name": "Python 3",
   "language": "python",
   "name": "python3"
  },
  "language_info": {
   "codemirror_mode": {
    "name": "ipython",
    "version": 3
   },
   "file_extension": ".py",
   "mimetype": "text/x-python",
   "name": "python",
   "nbconvert_exporter": "python",
   "pygments_lexer": "ipython3",
   "version": "3.13.5"
  }
 },
 "nbformat": 4,
 "nbformat_minor": 5
}
