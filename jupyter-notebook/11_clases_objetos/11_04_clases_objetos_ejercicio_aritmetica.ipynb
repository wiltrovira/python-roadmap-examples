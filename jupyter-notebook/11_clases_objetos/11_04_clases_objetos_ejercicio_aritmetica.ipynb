{
 "cells": [
  {
   "cell_type": "markdown",
   "id": "0b05afa3",
   "metadata": {},
   "source": [
    "# 📘 Ejercicio: Clase `Aritmetica` en Python\n",
    "\n",
    "Este ejercicio muestra cómo crear una **clase** en Python llamada `Aritmetica`, cómo definir **métodos** dentro de la clase y cómo **crear objetos** que usen esa clase."
   ]
  },
  {
   "cell_type": "markdown",
   "id": "fa18c6a2",
   "metadata": {},
   "source": [
    "## 🔹 Definición de la clase\n",
    "\n",
    "### Explicación:\n",
    "- `class Aritmetica:` → Se crea una nueva clase llamada **Aritmetica**.  \n",
    "- `def __init__(...)` → Es el **método constructor**, que se ejecuta automáticamente al crear un objeto.  \n",
    "- `self.operando1` y `self.operando2` → Son **atributos** del objeto, donde guardamos los valores que se reciben como parámetros.  \n"
   ]
  },
  {
   "cell_type": "code",
   "execution_count": 16,
   "id": "b7a1bb36",
   "metadata": {},
   "outputs": [],
   "source": [
    "class Aritmetica:\n",
    "    def __init__(self,parOperando1, parOperando2):\n",
    "        self.operando1 = parOperando1\n",
    "        self.operando2 = parOperando2\n",
    "\n",
    "    def sumar(self):\n",
    "        resultado = self.operando1 + self.operando2\n",
    "        print(f'Resultado de la suma: {resultado}')\n",
    "    \n",
    "    def restar(self):\n",
    "        resultado = self.operando1 - self.operando2\n",
    "        print(f'Resultado de la resta: {resultado}')\n",
    "\n",
    "    def multiplicar(self):\n",
    "        resultado = self.operando1 * self.operando2\n",
    "        print(f'Resultado de la multiplicación: {resultado}')\n",
    "    \n",
    "    def dividir(self):\n",
    "        resultado = self.operando1 / self.operando2\n",
    "        print(f'Resultado de la división: {resultado}')\n"
   ]
  },
  {
   "cell_type": "markdown",
   "id": "d1824663",
   "metadata": {},
   "source": [
    "## 🔹 Métodos de operaciones\n",
    "\n",
    "Dentro de la clase definimos funciones (**métodos**) que realizan operaciones matemáticas:\n",
    "\n",
    "### Explicación:\n",
    "- Cada método toma los atributos del objeto (`operando1` y `operando2`).  \n",
    "- Realiza la operación matemática correspondiente.  \n",
    "- Imprime el resultado usando un **f-string**.  \n",
    "\n",
    "Ejemplo de salida al ejecutar `sumar()` con `operando1=5` y `operando2=7`:  \n",
    "```\n",
    "Resultado de la suma: 12\n",
    "```"
   ]
  },
  {
   "cell_type": "markdown",
   "id": "cb429bc6",
   "metadata": {},
   "source": [
    "\n",
    "## 🔹 Función `main`\n",
    "\n",
    "### Explicación:\n",
    "- Se imprime un mensaje inicial.  \n",
    "- Se crea el **primer objeto** `aritmetica1` con los valores `5` y `7`, y se llaman los métodos `sumar()` y `restar()`.  \n",
    "- Luego se crea el **segundo objeto** `aritmetica2` con los valores `12` y `16`, y se llaman los métodos `multiplicar()` y `dividir()`.  \n",
    "\n",
    "Ejemplo:  \n",
    "```python\n",
    "aritmetica1 = Aritmetica(5,7)\n",
    "```\n",
    "Aquí se crea un objeto con `operando1 = 5` y `operando2 = 7`.\n",
    "\n"
   ]
  },
  {
   "cell_type": "code",
   "execution_count": 17,
   "id": "1ae83ac5",
   "metadata": {},
   "outputs": [],
   "source": [
    "\n",
    "def main():\n",
    "    print(\"*** Ejemplo clase Aritmética ***\")\n",
    "\n",
    "    # Objeto 1\n",
    "    aritmetica1 = Aritmetica(5,7)\n",
    "    aritmetica1.sumar()\n",
    "    aritmetica1.restar()\n",
    "    \n",
    "    print()  \n",
    "    \n",
    "    # Objeto 2\n",
    "    aritmetica2 = Aritmetica(12,16)\n",
    "    aritmetica2.multiplicar()\n",
    "    aritmetica2.dividir()\n"
   ]
  },
  {
   "cell_type": "markdown",
   "id": "be758c62",
   "metadata": {},
   "source": [
    "\n",
    "## 🔹 Ejecución del programa\n",
    "\n",
    "### Explicación:\n",
    "- Esta línea hace que el programa ejecute la función `main()` **solo si se corre directamente**, no si se importa desde otro archivo.  \n",
    "- Es una buena práctica en Python para organizar mejor el código.  \n",
    "\n",
    "\n"
   ]
  },
  {
   "cell_type": "code",
   "execution_count": 18,
   "id": "f848a66a",
   "metadata": {},
   "outputs": [
    {
     "name": "stdout",
     "output_type": "stream",
     "text": [
      "*** Ejemplo clase Aritmética ***\n",
      "Resultado de la suma: 12\n",
      "Resultado de la resta: -2\n",
      "\n",
      "Resultado de la multiplicación: 192\n",
      "Resultado de la división: 0.75\n"
     ]
    }
   ],
   "source": [
    "\n",
    "if __name__ == \"__main__\":\n",
    "    main()"
   ]
  },
  {
   "cell_type": "markdown",
   "id": "6234f714",
   "metadata": {},
   "source": [
    "\n",
    "## 🔹 Ejemplo de salida del programa\n",
    "\n",
    "```\n",
    "*** Ejemplo clase Aritmética ***\n",
    "Resultado de la suma: 12\n",
    "Resultado de la resta: -2\n",
    "\n",
    "Resultado de la multiplicación: 192\n",
    "Resultado de la división: 0.75\n",
    "```\n",
    "\n",
    "✅ Con este ejercicio aprendiste:  \n",
    "1. Cómo definir una **clase** en Python.  \n",
    "2. Qué es el **constructor `__init__`**.  \n",
    "3. Cómo crear **objetos** y acceder a sus métodos.  \n",
    "4. Cómo organizar un programa con la función `main()` y la condición `if __name__ == \"__main__\":`.  "
   ]
  }
 ],
 "metadata": {
  "kernelspec": {
   "display_name": "Python 3",
   "language": "python",
   "name": "python3"
  },
  "language_info": {
   "codemirror_mode": {
    "name": "ipython",
    "version": 3
   },
   "file_extension": ".py",
   "mimetype": "text/x-python",
   "name": "python",
   "nbconvert_exporter": "python",
   "pygments_lexer": "ipython3",
   "version": "3.13.5"
  }
 },
 "nbformat": 4,
 "nbformat_minor": 5
}
