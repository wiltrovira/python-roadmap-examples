{
 "cells": [
  {
   "cell_type": "markdown",
   "id": "7af2117b",
   "metadata": {},
   "source": [
    "# 🧠 Asignación de memoria y objetos en Python\n",
    "\n",
    "En este notebook exploraremos cómo **Python maneja la memoria cuando\n",
    "trabajamos con objetos**, utilizando una clase `Persona` como ejemplo.\n",
    "Aprenderemos cómo funcionan las referencias en memoria, la función\n",
    "`id()`, y cómo se comparan objetos.\n"
   ]
  },
  {
   "cell_type": "markdown",
   "id": "c06cdf1d",
   "metadata": {},
   "source": [
    "## 📌 Definición de la clase `Persona`\n",
    "\n",
    "En este primer bloque definimos una clase simple llamada `Persona`.\n",
    "\n",
    "🔎 **Explicación:** \n",
    "\n",
    "- `__init__` es el **constructor** que se ejecuta al crear un objeto de tipo `Persona`.\n",
    "- `self` hace referencia a la instancia actual del objeto (el propio objeto en memoria).\n",
    "- Usamos `id(self)` para obtener la **dirección de memoria interna** que Python asigna al objeto.\\\n",
    "- Convertimos ese valor con `hex()` para verlo en formato **hexadecimal**, lo que se parece más a una dirección real de memoria.\n"
   ]
  },
  {
   "cell_type": "code",
   "execution_count": 13,
   "id": "76bcffbb",
   "metadata": {},
   "outputs": [],
   "source": [
    "class Persona:\n",
    "\n",
    "    def __init__(self, parNombre, parApellido):\n",
    "        self.nombre = parNombre\n",
    "        self.apellido = parApellido\n",
    "\n",
    "    def mostrar_nombre(self):\n",
    "        print(\"Nombre:\", self.nombre)\n",
    "        print(\"Apellido:\", self.apellido)\n",
    "        print(\"Dirección de memoria id (self):\",id(self))\n",
    "        print(\"Dirección de memoria hex (self):\", hex(id(self)))"
   ]
  },
  {
   "cell_type": "markdown",
   "id": "44bd2786",
   "metadata": {},
   "source": [
    "## 📌 Creación de la primera instancia (`persona1`)\n",
    "\n",
    "Ahora creamos un objeto de tipo `Persona` y lo guardamos en la variable\n",
    "`persona1`.\n",
    "\n",
    "🔎 **Explicación:** \n",
    "\n",
    "- `persona1 = Persona(\"Wilt\", \"Rovira\")` crea una nueva instancia de la clase.\n",
    "- Llamamos a `mostrar_nombre()` para imprimir los atributos y la dirección de memoria del objeto.\n",
    "- Notamos que el valor de `id(self)` dentro del método y el valor de `id(persona1)` fuera del método **son iguales**, porque `self` y\n",
    "`persona1` son la misma referencia.\n"
   ]
  },
  {
   "cell_type": "code",
   "execution_count": 14,
   "id": "472f0c51",
   "metadata": {},
   "outputs": [
    {
     "name": "stdout",
     "output_type": "stream",
     "text": [
      "Nombre: Wilt\n",
      "Apellido: Rovira\n",
      "Dirección de memoria id (self): 127049834321232\n",
      "Dirección de memoria hex (self): 0x738d183e5550\n",
      "Dirección de memoria id persona1: 127049834321232\n",
      "Dirección de memoria id persona1: 0x738d183e5550\n"
     ]
    }
   ],
   "source": [
    "persona1 = Persona(\"Wilt\", \"Rovira\")\n",
    "persona1.mostrar_nombre()\n",
    "print(\"Dirección de memoria id persona1:\", id(persona1))\n",
    "print(\"Dirección de memoria id persona1:\", hex(id(persona1)))"
   ]
  },
  {
   "cell_type": "markdown",
   "id": "1c7b8223",
   "metadata": {},
   "source": [
    "## 📌 Creación de una segunda instancia (`persona2`)\n",
    "\n",
    "Ahora creamos otro objeto con valores diferentes.\n",
    "\n",
    "🔎 **Explicación:** \n",
    "\n",
    "- Cada vez que usamos `Persona(...)`, Python crea **un objeto diferente en memoria**.\n",
    "- Aunque `persona1` y `persona2` son de la misma clase, sus direcciones de memoria (`id`) son distintas.\n",
    "- Esto significa que son dos entidades independientes, cada una con sus\n",
    "propios atributos (`nombre`, `apellido`).\n"
   ]
  },
  {
   "cell_type": "code",
   "execution_count": 15,
   "id": "5868f64d",
   "metadata": {},
   "outputs": [
    {
     "name": "stdout",
     "output_type": "stream",
     "text": [
      "Nombre: María\n",
      "Apellido: González\n",
      "Dirección de memoria id (self): 127049832956304\n",
      "Dirección de memoria hex (self): 0x738d18298190\n",
      "Dirección de memoria id persona2: 127049832956304\n",
      "Dirección de memoria id persona1: 0x738d18298190\n"
     ]
    }
   ],
   "source": [
    "persona2 = Persona(\"María\", \"González\")\n",
    "persona2.mostrar_nombre()\n",
    "print(\"Dirección de memoria id persona2:\", id(persona2))\n",
    "print(\"Dirección de memoria id persona1:\", hex(id(persona2)))"
   ]
  },
  {
   "cell_type": "markdown",
   "id": "9cd6eac5",
   "metadata": {},
   "source": [
    "## 📌 Comparación de objetos\n",
    "\n",
    "Finalmente, comparamos las dos instancias creadas.\n",
    "\n",
    "🔎 **Explicación:** \n",
    "\n",
    "- En Python, cuando usamos `==` en objetos personalizados (como instancias de clases), **se compara la identidad\n",
    "del objeto** (es decir, si apuntan a la misma dirección en memoria).\n",
    "- Como `persona1` y `persona2` son objetos distintos, la comparación devuelve `False`.\n",
    "- Si quisiéramos que Python comparara por **atributos** (ejemplo: que dos personas sean iguales si tienen el mismo nombre y apellido),\n",
    "tendríamos que definir el método especial `__eq__` dentro de la clase.\n"
   ]
  },
  {
   "cell_type": "code",
   "execution_count": 16,
   "id": "4e0dc021",
   "metadata": {},
   "outputs": [
    {
     "name": "stdout",
     "output_type": "stream",
     "text": [
      "¿Son persona1 y persona2 iguales?:  False\n"
     ]
    }
   ],
   "source": [
    "print(\"¿Son persona1 y persona2 iguales?: \",persona1==persona2)"
   ]
  },
  {
   "cell_type": "markdown",
   "id": "3a0db72a",
   "metadata": {},
   "source": [
    "## ✅ Conclusiones\n",
    "\n",
    "-   Cada objeto creado con una clase en Python ocupa su propio espacio en memoria.\n",
    "-   `id(objeto)` muestra la dirección única en memoria que identifica a ese objeto.\\\n",
    "-   Dos instancias diferentes de una misma clase nunca serán iguales con `==` a menos que se personalice la comparación con `__eq__`."
   ]
  }
 ],
 "metadata": {
  "kernelspec": {
   "display_name": "Python 3",
   "language": "python",
   "name": "python3"
  },
  "language_info": {
   "codemirror_mode": {
    "name": "ipython",
    "version": 3
   },
   "file_extension": ".py",
   "mimetype": "text/x-python",
   "name": "python",
   "nbconvert_exporter": "python",
   "pygments_lexer": "ipython3",
   "version": "3.13.5"
  }
 },
 "nbformat": 4,
 "nbformat_minor": 5
}
