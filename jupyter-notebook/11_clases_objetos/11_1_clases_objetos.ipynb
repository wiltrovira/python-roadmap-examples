{
 "cells": [
  {
   "cell_type": "markdown",
   "id": "7af2117b",
   "metadata": {},
   "source": [
    "# 👩‍💻 Introducción a Clases y Objetos en Python\n",
    "\n",
    "En este notebook aprenderemos lo básico sobre **Programación Orientada a Objetos (POO)** en Python.  \n",
    "Trabajaremos con la creación de una clase simple llamada `Persona`, a la cual le agregaremos métodos para inicializar y mostrar el nombre de una persona.  \n",
    "\n",
    "El objetivo es entender:\n",
    "- Qué es una **clase** y cómo se define en Python.  \n",
    "- Cómo crear **objetos (instancias)** a partir de una clase.  \n",
    "- Cómo utilizar **métodos** para modificar y mostrar la información de los objetos.  \n"
   ]
  },
  {
   "cell_type": "markdown",
   "id": "cbf6e852",
   "metadata": {},
   "source": [
    "## 📌 Definición de la clase `Persona`\n",
    "\n",
    "A continuación definimos la clase `Persona`.  \n",
    "Dentro de ella implementamos dos métodos:  \n",
    "- `inicializar_nombre`: recibe nombre y apellido y los guarda en el objeto.  \n",
    "- `mostrar_nombre`: imprime el nombre completo de la persona.  \n",
    "\n",
    "Luego creamos el primer objeto `persona1`, asignamos valores a sus atributos y mostramos su nombre.  \n"
   ]
  },
  {
   "cell_type": "code",
   "execution_count": 14,
   "id": "76bcffbb",
   "metadata": {},
   "outputs": [],
   "source": [
    "class Persona:\n",
    "\n",
    "    def inicializar_nombre(self, parNombre, parApellido):\n",
    "        self.nombre = parNombre\n",
    "        self.apellido = parApellido\n",
    "\n",
    "    def mostrar_nombre(self):\n",
    "        print(self.nombre + \" \" + self.apellido)\n"
   ]
  },
  {
   "cell_type": "code",
   "execution_count": 15,
   "id": "472f0c51",
   "metadata": {},
   "outputs": [
    {
     "name": "stdout",
     "output_type": "stream",
     "text": [
      "Wilt Rovira\n"
     ]
    }
   ],
   "source": [
    "persona1 = Persona()\n",
    "persona1.inicializar_nombre(\"Wilt\", \"Rovira\")\n",
    "persona1.mostrar_nombre()"
   ]
  },
  {
   "cell_type": "markdown",
   "id": "78168a76",
   "metadata": {},
   "source": [
    "## 📌 Creación de un segundo objeto `persona2`\n",
    "\n",
    "Ahora creamos un segundo objeto a partir de la clase `Persona`.  \n",
    "Le asignamos un nombre y un apellido, y posteriormente mostramos el nombre completo utilizando el método `mostrar_nombre()`.  \n"
   ]
  },
  {
   "cell_type": "code",
   "execution_count": 16,
   "id": "5868f64d",
   "metadata": {},
   "outputs": [
    {
     "name": "stdout",
     "output_type": "stream",
     "text": [
      "María González\n"
     ]
    }
   ],
   "source": [
    "persona2 = Persona()\n",
    "persona2.inicializar_nombre(\"María\", \"González\")\n",
    "persona2.mostrar_nombre()"
   ]
  }
 ],
 "metadata": {
  "kernelspec": {
   "display_name": "Python 3",
   "language": "python",
   "name": "python3"
  },
  "language_info": {
   "codemirror_mode": {
    "name": "ipython",
    "version": 3
   },
   "file_extension": ".py",
   "mimetype": "text/x-python",
   "name": "python",
   "nbconvert_exporter": "python",
   "pygments_lexer": "ipython3",
   "version": "3.13.5"
  }
 },
 "nbformat": 4,
 "nbformat_minor": 5
}
