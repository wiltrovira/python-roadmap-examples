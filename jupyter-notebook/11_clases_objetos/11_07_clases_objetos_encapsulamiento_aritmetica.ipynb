{
 "cells": [
  {
   "cell_type": "markdown",
   "id": "0b05afa3",
   "metadata": {},
   "source": [
    "# Ejercicio de Encapsulamiento con Getters y Setters en Python\n",
    "\n",
    "En este ejercicio practicamos el **encapsulamiento** en Python usando la clase `Aritmetica`.  \n",
    "La idea es proteger los atributos internos y acceder a ellos de forma controlada usando **decoradores** como `@property` (getter) y `@atributo.setter` (setter)."
   ]
  },
  {
   "cell_type": "markdown",
   "id": "fa18c6a2",
   "metadata": {},
   "source": [
    "## 📌 Definición de la clase `Aritmetica`\n",
    "\n",
    "```python\n",
    "# Definición de la clase Aritmetica\n",
    "class Aritmetica:\n",
    "    def __init__(self,operando1, operando2):\n",
    "        self._operando1 = operando1 #Atributo privado\n",
    "        self._operando2 = operando2 #Atributo privado\n",
    "```\n",
    "Aquí definimos la clase con dos atributos **privados** (`_operando1` y `_operando2`).  \n",
    "\n",
    "Se usan con un guion bajo (`_`) para indicar que no deberían ser modificados directamente.\n",
    "\n",
    "## 📌 Métodos aritméticos\n",
    "\n",
    "Estos son métodos normales que usan los atributos privados para realizar operaciones básicas: suma, resta, multiplicación y división.\n",
    "\n",
    "## 📌 Uso de `@property` (Getter y Setter)\n",
    "\n",
    "- Con `@property` creamos un **getter**, es decir, una forma segura de **leer** el valor.  \n",
    "- Con `@atributo.setter` creamos un **setter**, que nos permite **modificar** el valor.  \n",
    "\n",
    "De esta manera:\n",
    "\n",
    "```python\n",
    "aritmetica1.operando1 # Accede al getter\n",
    "aritmetica1.operando1 = 10 # Usa el setter\n",
    "```"
   ]
  },
  {
   "cell_type": "code",
   "execution_count": 4,
   "id": "b7a1bb36",
   "metadata": {},
   "outputs": [],
   "source": [
    "# Definición de la clase Aritmetica\n",
    "class Aritmetica:\n",
    "    def __init__(self,operando1, operando2):\n",
    "        self._operando1 = operando1 #Atributo privado\n",
    "        self._operando2 = operando2 #Atributo privado\n",
    "\n",
    "    def sumar(self): \n",
    "        resultado = self._operando1 + self._operando2 #Atributo privado\n",
    "        return resultado\n",
    "    \n",
    "    def restar(self):\n",
    "        resultado = self._operando1 - self._operando2 #Atributo privado\n",
    "        return resultado \n",
    "\n",
    "    def multiplicar(self):\n",
    "        resultado = self._operando1 * self._operando2   #Atributo privado\n",
    "        return resultado\n",
    "    \n",
    "    def dividir(self):\n",
    "        resultado = self._operando1 / self._operando2  #Atributo privado\n",
    "        return resultado\n",
    "    \n",
    "    @property #Decorator\n",
    "    def operando1(self): #Getter\n",
    "        return self._operando1 #Atributo privado\n",
    "    \n",
    "    @operando1.setter #Decorator\n",
    "    def operando1(self, operando1): #Setter\n",
    "        self._operando1 = operando1 #Atributo privado\n",
    "\n",
    "    @property\n",
    "    def operando2(self): #Getter\n",
    "        return self._operando2 #Atributo privado \n",
    "    \n",
    "    @operando2.setter\n",
    "    def operando2(self, operando2): #Setter\n",
    "        self._operando2 = operando2 #Atributo privado\n"
   ]
  },
  {
   "cell_type": "markdown",
   "id": "cb429bc6",
   "metadata": {},
   "source": [
    "## 📌 Programa principal\n",
    "\n",
    "Aquí:\n",
    "1. Creamos un objeto de la clase `Aritmetica` con valores iniciales.  \n",
    "2. Usamos el método `sumar()` para ver el resultado.  \n",
    "3. Modificamos los valores con los **setters**.  \n",
    "4. Accedemos a los valores con los **getters** y realizamos otra operación."
   ]
  },
  {
   "cell_type": "code",
   "execution_count": 5,
   "id": "1ae83ac5",
   "metadata": {},
   "outputs": [],
   "source": [
    "\n",
    "def main():\n",
    "    print(\"*** Ejemplo clase Aritmética con Encapsulamiento***\")\n",
    "\n",
    "    # Objeto 1\n",
    "    aritmetica1 = Aritmetica(5,7)\n",
    "    resultado = aritmetica1.sumar()\n",
    "    print(f'Resultado de la suma: {resultado}')\n",
    "\n",
    "    # Modificamos los atributos usando los getters y setters\n",
    "    aritmetica1.operando1 = 10 # Usamos el setter\n",
    "    aritmetica1.operando2 = 4 # Usamos el setter\n",
    "    resultado = aritmetica1.restar() # Realizamos la resta\n",
    "\n",
    "    print(f'Operando 1: {aritmetica1.operando1}') # Usamos el getter\n",
    "    print(f'Operando 2: {aritmetica1.operando2}') # Usamos el getter\n",
    "    print(f'Resultado de la resta: {resultado}')\n"
   ]
  },
  {
   "cell_type": "markdown",
   "id": "be758c62",
   "metadata": {},
   "source": [
    "Esto asegura que `main()` se ejecute solo cuando el archivo se corre directamente, y no si se importa como módulo en otro script."
   ]
  },
  {
   "cell_type": "code",
   "execution_count": 6,
   "id": "f848a66a",
   "metadata": {},
   "outputs": [
    {
     "name": "stdout",
     "output_type": "stream",
     "text": [
      "*** Ejemplo clase Aritmética con Encapsulamiento***\n",
      "Resultado de la suma: 12\n",
      "Operando 1: 10\n",
      "Operando 2: 4\n",
      "Resultado de la resta: 6\n"
     ]
    }
   ],
   "source": [
    "\n",
    "if __name__ == \"__main__\":\n",
    "    main()"
   ]
  },
  {
   "cell_type": "markdown",
   "id": "6234f714",
   "metadata": {},
   "source": [
    "## ✅ Conclusión\n",
    "\n",
    "En este ejercicio aprendimos:\n",
    "- Cómo encapsular atributos usando el guion bajo `_`.  \n",
    "- Cómo usar `@property` y `@setter` para leer y modificar atributos de forma controlada.  \n",
    "- Cómo aplicar estos conceptos en una clase sencilla con operaciones matemáticas.  \n",
    "\n",
    "Este patrón es muy útil para mantener el código más **seguro, limpio y fácil de mantener**."
   ]
  }
 ],
 "metadata": {
  "kernelspec": {
   "display_name": "Python 3",
   "language": "python",
   "name": "python3"
  },
  "language_info": {
   "codemirror_mode": {
    "name": "ipython",
    "version": 3
   },
   "file_extension": ".py",
   "mimetype": "text/x-python",
   "name": "python",
   "nbconvert_exporter": "python",
   "pygments_lexer": "ipython3",
   "version": "3.13.5"
  }
 },
 "nbformat": 4,
 "nbformat_minor": 5
}
