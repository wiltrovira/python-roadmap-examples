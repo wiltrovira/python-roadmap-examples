{
 "cells": [
  {
   "cell_type": "markdown",
   "id": "7af2117b",
   "metadata": {},
   "source": [
    "# 👩‍💻 Uso del método constructor `__init__` en Python\n",
    "\n",
    "En Python, el método especial `__init__` se utiliza como **constructor** de la clase.  \n",
    "Este método se ejecuta automáticamente cada vez que se crea un nuevo objeto y permite inicializar sus atributos sin necesidad de llamar a otro método adicional.  \n",
    "\n",
    "En el siguiente ejemplo, definimos la clase `Persona` con un constructor que recibe como parámetros el **nombre** y el **apellido**.  \n",
    "También agregamos un método `mostrar_nombre` que imprime el nombre completo.  \n",
    "\n",
    "Finalmente, creamos un objeto `persona1`, inicializado con los valores `\"Wilt\"` y `\"Rovira\"`, y mostramos su nombre.\n"
   ]
  },
  {
   "cell_type": "code",
   "execution_count": null,
   "id": "76bcffbb",
   "metadata": {},
   "outputs": [],
   "source": [
    "class Persona:\n",
    "\n",
    "    def __init__(self, parNombre, parApellido):\n",
    "        self.nombre = parNombre\n",
    "        self.apellido = parApellido\n",
    "\n",
    "    def mostrar_nombre(self):\n",
    "        print(self.nombre + \" \" + self.apellido)\n"
   ]
  },
  {
   "cell_type": "code",
   "execution_count": null,
   "id": "472f0c51",
   "metadata": {},
   "outputs": [
    {
     "name": "stdout",
     "output_type": "stream",
     "text": [
      "Wilt Rovira\n"
     ]
    }
   ],
   "source": [
    "persona1 = Persona(\"Wilt\", \"Rovira\")\n",
    "persona1.mostrar_nombre()"
   ]
  },
  {
   "cell_type": "markdown",
   "id": "78168a76",
   "metadata": {},
   "source": [
    "## 📌 Creación de un segundo objeto con el constructor\n",
    "\n",
    "Ahora creamos un segundo objeto `persona2` utilizando el mismo constructor de la clase `Persona`.  \n",
    "Al instanciarlo, enviamos directamente el nombre y apellido como argumentos del método `__init__`.  \n",
    "\n",
    "De esta forma, Python asigna automáticamente los valores a los atributos internos del objeto, y al llamar a `mostrar_nombre()` se imprime `\"María González\"`.\n"
   ]
  },
  {
   "cell_type": "code",
   "execution_count": null,
   "id": "5868f64d",
   "metadata": {},
   "outputs": [
    {
     "name": "stdout",
     "output_type": "stream",
     "text": [
      "María González\n"
     ]
    }
   ],
   "source": [
    "persona2 = Persona(\"María\", \"González\")\n",
    "persona2.mostrar_nombre()"
   ]
  }
 ],
 "metadata": {
  "kernelspec": {
   "display_name": "Python 3",
   "language": "python",
   "name": "python3"
  },
  "language_info": {
   "codemirror_mode": {
    "name": "ipython",
    "version": 3
   },
   "file_extension": ".py",
   "mimetype": "text/x-python",
   "name": "python",
   "nbconvert_exporter": "python",
   "pygments_lexer": "ipython3",
   "version": "3.13.5"
  }
 },
 "nbformat": 4,
 "nbformat_minor": 5
}
