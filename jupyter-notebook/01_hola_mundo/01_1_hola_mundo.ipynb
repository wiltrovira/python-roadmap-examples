{
 "cells": [
  {
   "cell_type": "markdown",
   "id": "9153d4a5",
   "metadata": {},
   "source": [
    "# 👋 Primer ejercicio en Jupyter Notebook  \n",
    "\n",
    "En esta celda vamos a ejecutar nuestro **primer programa en Python**: un clásico `Hola mundo`.  \n"
   ]
  },
  {
   "cell_type": "code",
   "execution_count": 6,
   "id": "dd06bf41",
   "metadata": {},
   "outputs": [
    {
     "name": "stdout",
     "output_type": "stream",
     "text": [
      "hola mundo\n"
     ]
    }
   ],
   "source": [
    "print(\"hola mundo\")"
   ]
  },
  {
   "cell_type": "markdown",
   "id": "edff933b",
   "metadata": {},
   "source": [
    "✅ **Explicación de la salida**  \n",
    "\n",
    "El comando `print()` en Python muestra en pantalla el texto que se encuentra entre comillas.  \n",
    "En este caso, el resultado será:  \n",
    "\n",
    "> hola mundo\n"
   ]
  }
 ],
 "metadata": {
  "kernelspec": {
   "display_name": "Python 3",
   "language": "python",
   "name": "python3"
  },
  "language_info": {
   "codemirror_mode": {
    "name": "ipython",
    "version": 3
   },
   "file_extension": ".py",
   "mimetype": "text/x-python",
   "name": "python",
   "nbconvert_exporter": "python",
   "pygments_lexer": "ipython3",
   "version": "3.13.5"
  }
 },
 "nbformat": 4,
 "nbformat_minor": 5
}
