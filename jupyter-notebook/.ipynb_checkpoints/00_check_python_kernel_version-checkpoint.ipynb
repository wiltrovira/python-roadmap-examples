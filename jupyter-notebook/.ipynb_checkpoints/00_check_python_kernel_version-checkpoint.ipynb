{
 "cells": [
  {
   "cell_type": "markdown",
   "id": "0119c03b-bc18-479b-b674-e00899e02f86",
   "metadata": {},
   "source": [
    "# 🔍 Verificación del kernel y versión de Python\n",
    "\n",
    "Este notebook tiene como propósito confirmar:\n",
    "- El **ejecutable de Python** que está utilizando Jupyter Notebook.\n",
    "- La **versión de Python** en ejecución.\n",
    "- (Opcional) El listado de kernels disponibles.\n",
    "\n",
    "Esto es útil para asegurarse de que estás trabajando con el entorno correcto, en especial si utilizas `venv`, `pyenv` u otros entornos virtuales.\n",
    "\n",
    "---\n",
    "\n",
    "## 1. Mostrar la ruta del ejecutable y versión de Python\n",
    "\n",
    "```python\n",
    "import sys\n",
    "print(\"Ejecutable de Python:\", sys.executable)\n",
    "print(\"Versión de Python:\", sys.version)\n",
    "```\n"
   ]
  },
  {
   "cell_type": "code",
   "execution_count": 3,
   "id": "b7cc7467-02e9-49c8-b0d0-c12ec97ca14f",
   "metadata": {},
   "outputs": [
    {
     "name": "stdout",
     "output_type": "stream",
     "text": [
      "Ejecutable de Python: /home/plinterbryan/.pyenv/versions/3.13.5/bin/python3\n",
      "Versión de Python: 3.13.5 (main, Aug  7 2025, 13:14:15) [GCC 11.4.0]\n"
     ]
    }
   ],
   "source": [
    "import sys\n",
    "print(\"Ejecutable de Python:\", sys.executable)\n",
    "print(\"Versión de Python:\", sys.version)\n"
   ]
  },
  {
   "cell_type": "markdown",
   "id": "639059e4-146a-46b5-a8a7-a282767c31ea",
   "metadata": {},
   "source": [
    "---\n",
    "\n",
    "## 2. Listar los kernels instalados\n",
    "\n",
    "Si quieres verificar qué kernels tiene Jupyter registrados:\n",
    "\n",
    "```bash\n",
    "!jupyter kernelspec list\n",
    "```\n",
    "\n",
    "En un notebook de Jupyter, el signo de admiración (!) significa:\n",
    "\n",
    "👉 “Ejecuta este comando en la terminal (shell) del sistema operativo, no en Python”.\n",
    "\n",
    "- No es código Python.\n",
    "- Ejecuta el comando de Linux/macOS ls (o su equivalente en Windows con PowerShell/CMD).\n",
    "- Te listará los archivos del directorio actual."
   ]
  },
  {
   "cell_type": "code",
   "execution_count": 6,
   "id": "99c41508-92d9-4570-a157-11d6f43c1b5a",
   "metadata": {},
   "outputs": [
    {
     "name": "stdout",
     "output_type": "stream",
     "text": [
      "Available kernels:\n",
      "  py3135_roadmap_examples    /home/plinterbryan/.local/share/jupyter/kernels/py3135_roadmap_examples\n",
      "  python3                    /home/plinterbryan/.pyenv/versions/3.13.5/share/jupyter/kernels/python3\n"
     ]
    }
   ],
   "source": [
    "!jupyter kernelspec list\n"
   ]
  }
 ],
 "metadata": {
  "kernelspec": {
   "display_name": "Python 3.13.5 (Roadmap Examples)",
   "language": "python",
   "name": "py3135_roadmap_examples"
  },
  "language_info": {
   "codemirror_mode": {
    "name": "ipython",
    "version": 3
   },
   "file_extension": ".py",
   "mimetype": "text/x-python",
   "name": "python",
   "nbconvert_exporter": "python",
   "pygments_lexer": "ipython3",
   "version": "3.13.5"
  }
 },
 "nbformat": 4,
 "nbformat_minor": 5
}
