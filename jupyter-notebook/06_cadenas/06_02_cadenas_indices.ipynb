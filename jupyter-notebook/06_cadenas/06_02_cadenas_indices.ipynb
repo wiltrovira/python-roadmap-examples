{
 "cells": [
  {
   "cell_type": "markdown",
   "id": "e5728852",
   "metadata": {},
   "source": []
  },
  {
   "cell_type": "code",
   "execution_count": null,
   "id": "8497e9a9",
   "metadata": {},
   "outputs": [
    {
     "name": "stdout",
     "output_type": "stream",
     "text": [
      "cadena 1 con comillas dobles Hola Mundo\n",
      "Primer caracter posición[0] de cadena1 H\n",
      "Último caracter posición[9] de cadena1 o\n"
     ]
    }
   ],
   "source": [
    "cadena1 = \"Hola Mundo\" # Se pueden usar comillas dobles\n",
    "cadena2 = 'Hola Nuevo Mundo' # También se pueden usar comillas simples\n",
    "cadena3 = \"\"\" Esta es una cadena\n",
    "    de múltiples lineas que se hace\n",
    "        con triples comillas \n",
    "            dobles o simples  \n",
    "    \"\"\" # Comillas triples permiten múltiples líneas\n",
    "\n",
    "\n",
    "# Impresiones en consola\n",
    "print(\"cadena 1 con comillas dobles\", cadena1) # Imprime la cadena con comillas dobles\n",
    "print(\"Primer caracter posición[0] de cadena1\", cadena1[0]) # Imprime el primer caracter de la cadena1\n",
    "print(\"Sexto caracter posición[5] de cadena1\", cadena1[5]) # Imprime el sexto caracter de la cadena1\n",
    "print(\"Último caracter posición[9] de cadena1\", cadena1[9]) # Imprime el último caracter de la cadena1\n",
    "\n",
    "\n",
    "# Inmutabilidad de cadenas (No se puede reemplazar caracteres individuales)\n",
    "# cadena1[0] = 'h' # Esto causará un error porque las cadenas son inmutables en Python\n",
    "# print(\"cadena 1 con comillas dobles\", cadena1) # Imprime la cadena con comillas dobles \n",
    "\n",
    "\n",
    "\n",
    "#print(\"cadena 2 con comillas simples\", cadena2) # Imprime la cadena con comillas simples\n",
    "#print(\"cadena 3 con triples comillas\", cadena3)    # Imprime la cadena con triples comillas\n",
    "\n"
   ]
  },
  {
   "cell_type": "markdown",
   "id": "3a54df16",
   "metadata": {},
   "source": [
    "\n",
    "## Conclusión\n",
    "\n",
    "- En Python, se pueden usar **comillas simples**, **dobles** o **triples** para definir cadenas.  \n",
    "- Las **triples comillas** son especialmente útiles para texto multilínea.  \n",
    "- La función `print()` permite mostrar tanto mensajes fijos como el contenido de variables en pantalla.  "
   ]
  }
 ],
 "metadata": {
  "kernelspec": {
   "display_name": "Python 3.13.5 (Roadmap Examples)",
   "language": "python",
   "name": "py3135_roadmap_examples"
  },
  "language_info": {
   "codemirror_mode": {
    "name": "ipython",
    "version": 3
   },
   "file_extension": ".py",
   "mimetype": "text/x-python",
   "name": "python",
   "nbconvert_exporter": "python",
   "pygments_lexer": "ipython3",
   "version": "3.13.5"
  }
 },
 "nbformat": 4,
 "nbformat_minor": 5
}
