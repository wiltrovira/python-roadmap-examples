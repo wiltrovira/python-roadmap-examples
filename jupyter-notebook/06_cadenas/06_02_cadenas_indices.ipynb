{
 "cells": [
  {
   "cell_type": "markdown",
   "id": "e5728852",
   "metadata": {},
   "source": [
    "# Práctica de Índices en Cadenas en Python\n",
    "\n",
    "En Python, las cadenas son **secuencias de caracteres**, lo que significa que cada carácter tiene una posición (índice).  \n",
    "Podemos acceder a estos caracteres usando índices entre corchetes `[]`.\n",
    "\n",
    "## Definición de cadenas\n",
    "\n",
    "```python\n",
    "cadena1 = \"Hola Mundo\"  # Se pueden usar comillas dobles\n",
    "cadena2 = 'Hola Nuevo Mundo'  # También se pueden usar comillas simples\n",
    "cadena3 = \"\"\" Esta es una cadena\n",
    "    de múltiples lineas que se hace\n",
    "        con triples comillas \n",
    "            dobles o simples  \n",
    "    \"\"\"  # Comillas triples permiten múltiples líneas\n",
    "```\n",
    "➡️ Se crean tres cadenas utilizando diferentes tipos de comillas.  \n",
    "- `cadena1`: usa comillas dobles.  \n",
    "- `cadena2`: usa comillas simples.  \n",
    "- `cadena3`: usa **triples comillas** para abarcar varias líneas.  \n",
    "\n",
    "## Impresiones en consola\n",
    "\n",
    "```python\n",
    "print(\"cadena 1 con comillas dobles\", cadena1)\n",
    "```\n",
    "➡️ Imprime el texto `\"cadena 1 con comillas dobles\"` seguido del contenido de `cadena1`.\n",
    "\n",
    "```python\n",
    "print(\"Primer caracter posición[0] de cadena1\", cadena1[0])\n",
    "```\n",
    "➡️ Usa el **índice `[0]`** para obtener el **primer carácter** de la cadena.  \n",
    "En este caso, el resultado será `\"H\"`.\n",
    "\n",
    "```python\n",
    "print(\"Sexto caracter posición[5] de cadena1\", cadena1[5])\n",
    "```\n",
    "➡️ Usa el **índice `[5]`** para obtener el **sexto carácter** de la cadena.  \n",
    "El resultado será `\"M\"`.  \n",
    "\n",
    "```python\n",
    "print(\"Último caracter posición[9] de cadena1\", cadena1[9])\n",
    "```\n",
    "➡️ Usa el **índice `[9]`** para obtener el **último carácter** de la cadena.  \n",
    "En este caso será `\"o\"`.  \n",
    "\n",
    "### Inmutabilidad de cadenas\n",
    "\n",
    "```python\n",
    "# cadena1[0] = 'h'  # Esto causará un error porque las cadenas son inmutables en Python\n",
    "```\n",
    "➡️ Las cadenas en Python son **inmutables**, lo que significa que **no se pueden modificar caracteres individuales** una vez creada la cadena.  \n",
    "Intentar hacerlo generará un `TypeError`.  \n"
   ]
  },
  {
   "cell_type": "code",
   "execution_count": null,
   "id": "8497e9a9",
   "metadata": {},
   "outputs": [
    {
     "name": "stdout",
     "output_type": "stream",
     "text": [
      "cadena 1 con comillas dobles Hola Mundo\n",
      "Primer caracter posición[0] de cadena1 H\n",
      "Sexto caracter posición[5] de cadena1 M\n",
      "Último caracter posición[9] de cadena1 o\n"
     ]
    }
   ],
   "source": [
    "cadena1 = \"Hola Mundo\" # Se pueden usar comillas dobles\n",
    "cadena2 = 'Hola Nuevo Mundo' # También se pueden usar comillas simples\n",
    "cadena3 = \"\"\" Esta es una cadena\n",
    "    de múltiples lineas que se hace\n",
    "        con triples comillas \n",
    "            dobles o simples  \n",
    "    \"\"\" # Comillas triples permiten múltiples líneas\n",
    "\n",
    "\n",
    "# Impresiones en consola\n",
    "print(\"cadena 1 con comillas dobles\", cadena1) # Imprime la cadena con comillas dobles\n",
    "print(\"Primer caracter posición[0] de cadena1\", cadena1[0]) # Imprime el primer caracter de la cadena1\n",
    "print(\"Sexto caracter posición[5] de cadena1\", cadena1[5]) # Imprime el sexto caracter de la cadena1\n",
    "print(\"Último caracter posición[9] de cadena1\", cadena1[9]) # Imprime el último caracter de la cadena1\n",
    "\n",
    "\n",
    "# Inmutabilidad de cadenas (No se puede reemplazar caracteres individuales)\n",
    "# cadena1[0] = 'h' # Esto causará un error porque las cadenas son inmutables en Python\n",
    "# print(\"cadena 1 con comillas dobles\", cadena1) # Imprime la cadena con comillas dobles \n",
    "# La línea anterior está comentada para evitar el error de ejecución"
   ]
  },
  {
   "cell_type": "markdown",
   "id": "3a54df16",
   "metadata": {},
   "source": [
    "## Conclusiones\n",
    "\n",
    "- Se pueden definir cadenas con **comillas simples, dobles o triples**.  \n",
    "- Los caracteres se acceden mediante índices, comenzando desde `0`.  \n",
    "- El último índice de una cadena corresponde a `len(cadena) - 1`.  \n",
    "- Las cadenas son **inmutables**, no se pueden modificar directamente.  \n"
   ]
  }
 ],
 "metadata": {
  "kernelspec": {
   "display_name": "Python 3.13.5 (Roadmap Examples)",
   "language": "python",
   "name": "py3135_roadmap_examples"
  },
  "language_info": {
   "codemirror_mode": {
    "name": "ipython",
    "version": 3
   },
   "file_extension": ".py",
   "mimetype": "text/x-python",
   "name": "python",
   "nbconvert_exporter": "python",
   "pygments_lexer": "ipython3",
   "version": "3.13.5"
  }
 },
 "nbformat": 4,
 "nbformat_minor": 5
}
