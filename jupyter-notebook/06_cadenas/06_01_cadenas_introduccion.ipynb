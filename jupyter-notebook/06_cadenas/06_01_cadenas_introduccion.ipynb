{
 "cells": [
  {
   "cell_type": "markdown",
   "id": "e5728852",
   "metadata": {},
   "source": [
    "# Ejemplo de Cadenas en Python con Explicación Línea por Línea\n",
    "\n",
    "Este ejemplo muestra cómo se pueden crear cadenas en Python utilizando diferentes tipos de comillas, y cómo imprimirlas en consola.\n",
    "\n",
    "## Código con explicación\n",
    "\n",
    "```python\n",
    "cadena1 = \"Hola Mundo\"\n",
    "```\n",
    "➡️ Se crea una cadena utilizando **comillas dobles** (`\"`).  \n",
    "La variable `cadena1` almacena el texto `\"Hola Mundo\"`.\n",
    "\n",
    "```python\n",
    "cadena2 = 'Hola Nuevo Mundo'\n",
    "```\n",
    "➡️ Aquí la cadena se define con **comillas simples** (`'`).  \n",
    "En Python, tanto comillas simples como dobles son válidas para definir cadenas.  \n",
    "La variable `cadena2` contiene el texto `'Hola Nuevo Mundo'`.\n",
    "\n",
    "```python\n",
    "cadena3 = \"\"\" Esta es una cadena\n",
    "    de múltiples lineas que se hace\n",
    "        con triples comillas \n",
    "            dobles o simples  \n",
    "    \"\"\"\n",
    "```\n",
    "➡️ Esta vez la cadena se define con **triples comillas dobles** (`\"\"\"`).  \n",
    "Esto permite que la cadena ocupe **varias líneas** y que los saltos de línea y la indentación se conserven tal cual aparecen en el código.  \n",
    "La variable `cadena3` contiene un texto multilínea.\n",
    "\n",
    "## Impresiones en consola\n",
    "\n",
    "```python\n",
    "print(\"cadena 1 con comillas dobles\", cadena1)\n",
    "```\n",
    "➡️ Imprime el mensaje `\"cadena 1 con comillas dobles\"` seguido del contenido de la variable `cadena1`.  \n",
    "Resultado esperado:  \n",
    "```\n",
    "cadena 1 con comillas dobles Hola Mundo\n",
    "```\n",
    "\n",
    "```python\n",
    "print(\"cadena 2 con comillas simples\", cadena2)\n",
    "```\n",
    "➡️ Imprime el mensaje `\"cadena 2 con comillas simples\"` seguido del contenido de la variable `cadena2`.  \n",
    "Resultado esperado:  \n",
    "```\n",
    "cadena 2 con comillas simples Hola Nuevo Mundo\n",
    "```\n",
    "\n",
    "```python\n",
    "print(\"cadena 3 con triples comillas\", cadena3)\n",
    "```\n",
    "➡️ Imprime el mensaje `\"cadena 3 con triples comillas\"` seguido del contenido de la variable `cadena3`.  \n",
    "Como `cadena3` es multilínea, la impresión conserva los saltos de línea y los espacios definidos en el código.  \n",
    "Resultado esperado:  \n",
    "```\n",
    "cadena 3 con triples comillas  Esta es una cadena\n",
    "    de múltiples lineas que se hace\n",
    "        con triples comillas \n",
    "            dobles o simples  \n",
    "```\n"
   ]
  },
  {
   "cell_type": "code",
   "execution_count": 4,
   "id": "8497e9a9",
   "metadata": {},
   "outputs": [
    {
     "name": "stdout",
     "output_type": "stream",
     "text": [
      "cadena 1 con comillas dobles Hola Mundo\n",
      "cadena 2 con comillas simples Hola Nuevo Mundo\n",
      "cadena 3 con triples comillas  Esta es una cadena\n",
      "    de múltiples lineas que se hace\n",
      "        con triples comillas \n",
      "            dobles o simples  \n",
      "    \n"
     ]
    }
   ],
   "source": [
    "cadena1 = \"Hola Mundo\" # Se pueden usar comillas dobles\n",
    "cadena2 = 'Hola Nuevo Mundo' # También se pueden usar comillas simples\n",
    "cadena3 = \"\"\" Esta es una cadena\n",
    "    de múltiples lineas que se hace\n",
    "        con triples comillas \n",
    "            dobles o simples  \n",
    "    \"\"\" # Comillas triples permiten múltiples líneas\n",
    "\n",
    "print(\"cadena 1 con comillas dobles\", cadena1) # Imprime la cadena con comillas dobles\n",
    "print(\"cadena 2 con comillas simples\", cadena2) # Imprime la cadena con comillas simples\n",
    "print(\"cadena 3 con triples comillas\", cadena3)    # Imprime la cadena con triples comillas\n",
    "\n"
   ]
  },
  {
   "cell_type": "markdown",
   "id": "3a54df16",
   "metadata": {},
   "source": [
    "\n",
    "## Conclusión\n",
    "\n",
    "- En Python, se pueden usar **comillas simples**, **dobles** o **triples** para definir cadenas.  \n",
    "- Las **triples comillas** son especialmente útiles para texto multilínea.  \n",
    "- La función `print()` permite mostrar tanto mensajes fijos como el contenido de variables en pantalla.  "
   ]
  }
 ],
 "metadata": {
  "kernelspec": {
   "display_name": "Python 3.13.5 (Roadmap Examples)",
   "language": "python",
   "name": "py3135_roadmap_examples"
  },
  "language_info": {
   "codemirror_mode": {
    "name": "ipython",
    "version": 3
   },
   "file_extension": ".py",
   "mimetype": "text/x-python",
   "name": "python",
   "nbconvert_exporter": "python",
   "pygments_lexer": "ipython3",
   "version": "3.13.5"
  }
 },
 "nbformat": 4,
 "nbformat_minor": 5
}
